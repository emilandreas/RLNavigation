{
 "cells": [
  {
   "cell_type": "code",
   "execution_count": 1,
   "metadata": {},
   "outputs": [
    {
     "name": "stdout",
     "output_type": "stream",
     "text": [
      "/home/emilal/Documents/Master2018/RLNavigation/vrep_lib\n"
     ]
    }
   ],
   "source": [
    "import sys\n",
    "import time\n",
    "import matplotlib.pyplot as plt\n",
    "import numpy as np\n",
    "from PIL import Image\n",
    "sys.path.append('./vrep_lib')\n",
    "from vrep_lib import vrep\n",
    "import pandas\n",
    "\n"
   ]
  },
  {
   "cell_type": "code",
   "execution_count": 2,
   "metadata": {},
   "outputs": [],
   "source": [
    "path = pandas.read_csv('./path1.csv',',')"
   ]
  },
  {
   "cell_type": "code",
   "execution_count": 11,
   "metadata": {},
   "outputs": [
    {
     "name": "stdout",
     "output_type": "stream",
     "text": [
      "(966, 16)\n",
      "(966, 6)\n"
     ]
    },
    {
     "data": {
      "text/plain": [
       "array([[  8.715327, -25.398006,   0.138793,  -0.      ,   0.      ,\n",
       "         11.47834 ],\n",
       "       [  8.724535, -25.394106,   0.138793,  -0.      ,   0.      ,\n",
       "         22.956682],\n",
       "       [  8.732783, -25.388451,   0.138793,  -0.      ,   0.      ,\n",
       "         34.435024],\n",
       "       ..., \n",
       "       [  7.836516, -17.494106,   0.138793,   0.      ,   0.      ,\n",
       "        -22.956682],\n",
       "       [  7.845724, -17.498007,   0.138793,   0.      ,   0.      ,\n",
       "        -11.47834 ],\n",
       "       [  7.855524, -17.499996,   0.138793,  -0.      ,   0.      ,  -0.      ]])"
      ]
     },
     "execution_count": 11,
     "metadata": {},
     "output_type": "execute_result"
    }
   ],
   "source": [
    "path_array = path.as_matrix()\n",
    "print(path_array.shape)\n",
    "path_array = path_array[:,:6]\n",
    "print(path_array.shape)\n",
    "path_array"
   ]
  },
  {
   "cell_type": "code",
   "execution_count": 12,
   "metadata": {},
   "outputs": [
    {
     "data": {
      "text/plain": [
       "array([  8.767263, -25.317076,   0.138793,  -0.      ,   0.      ,  68.3521  ])"
      ]
     },
     "execution_count": 12,
     "metadata": {},
     "output_type": "execute_result"
    }
   ],
   "source": [
    "path_array[10,:]"
   ]
  },
  {
   "cell_type": "code",
   "execution_count": null,
   "metadata": {},
   "outputs": [],
   "source": []
  }
 ],
 "metadata": {
  "kernelspec": {
   "display_name": "Python 3",
   "language": "python",
   "name": "python3"
  },
  "language_info": {
   "codemirror_mode": {
    "name": "ipython",
    "version": 3
   },
   "file_extension": ".py",
   "mimetype": "text/x-python",
   "name": "python",
   "nbconvert_exporter": "python",
   "pygments_lexer": "ipython3",
   "version": "3.5.2"
  }
 },
 "nbformat": 4,
 "nbformat_minor": 2
}
