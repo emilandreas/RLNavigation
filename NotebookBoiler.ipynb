{
 "cells": [
  {
   "cell_type": "code",
   "execution_count": 7,
   "metadata": {},
   "outputs": [],
   "source": [
    "import sys\n",
    "import time\n",
    "import matplotlib.pyplot as plt\n",
    "import numpy as np\n",
    "from PIL import Image\n",
    "sys.path.append('./vrep_lib')\n",
    "from vrep_lib import vrep\n",
    "import pandas\n",
    "\n",
    "from Simulator import *"
   ]
  },
  {
   "cell_type": "code",
   "execution_count": null,
   "metadata": {},
   "outputs": [],
   "source": [
    "from version import VERSION\n"
   ]
  },
  {
   "cell_type": "code",
   "execution_count": 8,
   "metadata": {},
   "outputs": [
    {
     "name": "stdout",
     "output_type": "stream",
     "text": [
      "Connected to remote API server\n",
      "left:Error code: 0\n",
      "robot:Error code: 0\n",
      "right:Error code: 0\n",
      "cam:Error code: 0\n",
      "cam:Error code: 0\n"
     ]
    }
   ],
   "source": [
    "s = Simulator()"
   ]
  },
  {
   "cell_type": "code",
   "execution_count": 13,
   "metadata": {},
   "outputs": [
    {
     "data": {
      "text/plain": [
       "0"
      ]
     },
     "execution_count": 13,
     "metadata": {},
     "output_type": "execute_result"
    }
   ],
   "source": [
    "vrep.simxStartSimulation(s.clientID, vrep.simx_opmode_oneshot)\n"
   ]
  },
  {
   "cell_type": "code",
   "execution_count": 12,
   "metadata": {},
   "outputs": [
    {
     "data": {
      "text/plain": [
       "1"
      ]
     },
     "execution_count": 12,
     "metadata": {},
     "output_type": "execute_result"
    }
   ],
   "source": [
    "vrep.simxPauseSimulation(s.clientID, vrep.simx_opmode_oneshot)"
   ]
  },
  {
   "cell_type": "code",
   "execution_count": 14,
   "metadata": {},
   "outputs": [
    {
     "data": {
      "text/plain": [
       "0"
      ]
     },
     "execution_count": 14,
     "metadata": {},
     "output_type": "execute_result"
    }
   ],
   "source": [
    "vrep.simxStopSimulation(s.clientID, vrep.simx_opmode_oneshot)"
   ]
  },
  {
   "cell_type": "code",
   "execution_count": 2,
   "metadata": {},
   "outputs": [],
   "source": [
    "path = pandas.read_csv('./path1.csv',',')"
   ]
  },
  {
   "cell_type": "code",
   "execution_count": 11,
   "metadata": {},
   "outputs": [
    {
     "name": "stdout",
     "output_type": "stream",
     "text": [
      "(966, 16)\n",
      "(966, 6)\n"
     ]
    },
    {
     "data": {
      "text/plain": [
       "array([[  8.715327, -25.398006,   0.138793,  -0.      ,   0.      ,\n",
       "         11.47834 ],\n",
       "       [  8.724535, -25.394106,   0.138793,  -0.      ,   0.      ,\n",
       "         22.956682],\n",
       "       [  8.732783, -25.388451,   0.138793,  -0.      ,   0.      ,\n",
       "         34.435024],\n",
       "       ..., \n",
       "       [  7.836516, -17.494106,   0.138793,   0.      ,   0.      ,\n",
       "        -22.956682],\n",
       "       [  7.845724, -17.498007,   0.138793,   0.      ,   0.      ,\n",
       "        -11.47834 ],\n",
       "       [  7.855524, -17.499996,   0.138793,  -0.      ,   0.      ,  -0.      ]])"
      ]
     },
     "execution_count": 11,
     "metadata": {},
     "output_type": "execute_result"
    }
   ],
   "source": [
    "path_array = path.as_matrix()\n",
    "print(path_array.shape)\n",
    "path_array = path_array[:,:6]\n",
    "print(path_array.shape)\n",
    "path_array"
   ]
  },
  {
   "cell_type": "code",
   "execution_count": 12,
   "metadata": {},
   "outputs": [
    {
     "data": {
      "text/plain": [
       "array([  8.767263, -25.317076,   0.138793,  -0.      ,   0.      ,  68.3521  ])"
      ]
     },
     "execution_count": 12,
     "metadata": {},
     "output_type": "execute_result"
    }
   ],
   "source": [
    "path_array[10,:]"
   ]
  },
  {
   "cell_type": "code",
   "execution_count": 14,
   "metadata": {},
   "outputs": [
    {
     "name": "stdout",
     "output_type": "stream",
     "text": [
      "1.73205080757\n"
     ]
    }
   ],
   "source": [
    "print(np.linalg.norm([1,1,1]))"
   ]
  },
  {
   "cell_type": "code",
   "execution_count": 3,
   "metadata": {},
   "outputs": [
    {
     "name": "stdout",
     "output_type": "stream",
     "text": [
      "{ 'axes': { 'ABS_HAT0X': {'code': 16, 'flat': 0, 'fuzz': 0, 'max': 1, 'min': -1, 'res': 0},\n",
      "            'ABS_HAT0Y': {'code': 17, 'flat': 0, 'fuzz': 0, 'max': 1, 'min': -1, 'res': 0},\n",
      "            'ABS_RX': {'code': 3, 'flat': 128, 'fuzz': 16, 'max': 32767, 'min': -32768, 'res': 0},\n",
      "            'ABS_RY': {'code': 4, 'flat': 128, 'fuzz': 16, 'max': 32767, 'min': -32768, 'res': 0},\n",
      "            'ABS_RZ': {'code': 5, 'flat': 0, 'fuzz': 0, 'max': 1023, 'min': 0, 'res': 0},\n",
      "            'ABS_X': {'code': 0, 'flat': 128, 'fuzz': 16, 'max': 32767, 'min': -32768, 'res': 0},\n",
      "            'ABS_Y': {'code': 1, 'flat': 128, 'fuzz': 16, 'max': 32767, 'min': -32768, 'res': 0},\n",
      "            'ABS_Z': {'code': 2, 'flat': 0, 'fuzz': 0, 'max': 1023, 'min': 0, 'res': 0}},\n",
      "  'bus': 3,\n",
      "  'buttons': { 304: ['BTN_A', 'BTN_GAMEPAD', 'BTN_SOUTH'],\n",
      "               305: ['BTN_B', 'BTN_EAST'],\n",
      "               307: ['BTN_NORTH', 'BTN_X'],\n",
      "               308: ['BTN_WEST', 'BTN_Y'],\n",
      "               310: 'BTN_TL',\n",
      "               311: 'BTN_TR',\n",
      "               314: 'BTN_SELECT',\n",
      "               315: 'BTN_START',\n",
      "               316: 'BTN_MODE',\n",
      "               317: 'BTN_THUMBL',\n",
      "               318: 'BTN_THUMBR'},\n",
      "  'fn': '/dev/input/event5',\n",
      "  'name': 'Microsoft X-Box One S pad',\n",
      "  'phys': 'usb-0000:00:1a.0-1.6/input0',\n",
      "  'product': 746,\n",
      "  'vendor': 1118,\n",
      "  'version': 769}\n"
     ]
    }
   ],
   "source": [
    "from approxeng.input.controllers import print_devices\n",
    "\n",
    "print_devices()"
   ]
  },
  {
   "cell_type": "code",
   "execution_count": 4,
   "metadata": {},
   "outputs": [
    {
     "name": "stdout",
     "output_type": "stream",
     "text": [
      "{ 'axes': { 'ABS_HAT0X': {'code': 16, 'flat': 0, 'fuzz': 0, 'max': 1, 'min': -1, 'res': 0},\n",
      "            'ABS_HAT0Y': {'code': 17, 'flat': 0, 'fuzz': 0, 'max': 1, 'min': -1, 'res': 0},\n",
      "            'ABS_RX': {'code': 3, 'flat': 128, 'fuzz': 16, 'max': 32767, 'min': -32768, 'res': 0},\n",
      "            'ABS_RY': {'code': 4, 'flat': 128, 'fuzz': 16, 'max': 32767, 'min': -32768, 'res': 0},\n",
      "            'ABS_RZ': {'code': 5, 'flat': 0, 'fuzz': 0, 'max': 1023, 'min': 0, 'res': 0},\n",
      "            'ABS_X': {'code': 0, 'flat': 128, 'fuzz': 16, 'max': 32767, 'min': -32768, 'res': 0},\n",
      "            'ABS_Y': {'code': 1, 'flat': 128, 'fuzz': 16, 'max': 32767, 'min': -32768, 'res': 0},\n",
      "            'ABS_Z': {'code': 2, 'flat': 0, 'fuzz': 0, 'max': 1023, 'min': 0, 'res': 0}},\n",
      "  'bus': 3,\n",
      "  'buttons': { 304: ['BTN_A', 'BTN_GAMEPAD', 'BTN_SOUTH'],\n",
      "               305: ['BTN_B', 'BTN_EAST'],\n",
      "               307: ['BTN_NORTH', 'BTN_X'],\n",
      "               308: ['BTN_WEST', 'BTN_Y'],\n",
      "               310: 'BTN_TL',\n",
      "               311: 'BTN_TR',\n",
      "               314: 'BTN_SELECT',\n",
      "               315: 'BTN_START',\n",
      "               316: 'BTN_MODE',\n",
      "               317: 'BTN_THUMBL',\n",
      "               318: 'BTN_THUMBR'},\n",
      "  'fn': '/dev/input/event5',\n",
      "  'name': 'Microsoft X-Box One S pad',\n",
      "  'phys': 'usb-0000:00:1a.0-1.6/input0',\n",
      "  'product': 746,\n",
      "  'vendor': 1118,\n",
      "  'version': 769}\n"
     ]
    }
   ],
   "source": [
    "print_devices()"
   ]
  },
  {
   "cell_type": "code",
   "execution_count": 5,
   "metadata": {},
   "outputs": [
    {
     "ename": "error",
     "evalue": "curs_set() returned ERR",
     "traceback": [
      "\u001b[0;31m---------------------------------------------------------------------------\u001b[0m",
      "\u001b[0;31merror\u001b[0m                                     Traceback (most recent call last)",
      "\u001b[0;32m<ipython-input-5-c089d09126d0>\u001b[0m in \u001b[0;36m<module>\u001b[0;34m()\u001b[0m\n\u001b[1;32m     72\u001b[0m \u001b[0;34m\u001b[0m\u001b[0m\n\u001b[1;32m     73\u001b[0m \u001b[0;34m\u001b[0m\u001b[0m\n\u001b[0;32m---> 74\u001b[0;31m \u001b[0mcurses\u001b[0m\u001b[0;34m.\u001b[0m\u001b[0mwrapper\u001b[0m\u001b[0;34m(\u001b[0m\u001b[0mmain\u001b[0m\u001b[0;34m)\u001b[0m\u001b[0;34m\u001b[0m\u001b[0m\n\u001b[0m",
      "\u001b[0;32m/usr/lib/python3.5/curses/__init__.py\u001b[0m in \u001b[0;36mwrapper\u001b[0;34m(func, *args, **kwds)\u001b[0m\n\u001b[1;32m     92\u001b[0m             \u001b[0;32mpass\u001b[0m\u001b[0;34m\u001b[0m\u001b[0m\n\u001b[1;32m     93\u001b[0m \u001b[0;34m\u001b[0m\u001b[0m\n\u001b[0;32m---> 94\u001b[0;31m         \u001b[0;32mreturn\u001b[0m \u001b[0mfunc\u001b[0m\u001b[0;34m(\u001b[0m\u001b[0mstdscr\u001b[0m\u001b[0;34m,\u001b[0m \u001b[0;34m*\u001b[0m\u001b[0margs\u001b[0m\u001b[0;34m,\u001b[0m \u001b[0;34m**\u001b[0m\u001b[0mkwds\u001b[0m\u001b[0;34m)\u001b[0m\u001b[0;34m\u001b[0m\u001b[0m\n\u001b[0m\u001b[1;32m     95\u001b[0m     \u001b[0;32mfinally\u001b[0m\u001b[0;34m:\u001b[0m\u001b[0;34m\u001b[0m\u001b[0m\n\u001b[1;32m     96\u001b[0m         \u001b[0;31m# Set everything back to normal\u001b[0m\u001b[0;34m\u001b[0m\u001b[0;34m\u001b[0m\u001b[0m\n",
      "\u001b[0;32m<ipython-input-5-c089d09126d0>\u001b[0m in \u001b[0;36mmain\u001b[0;34m(screen)\u001b[0m\n\u001b[1;32m      5\u001b[0m \u001b[0;34m\u001b[0m\u001b[0m\n\u001b[1;32m      6\u001b[0m \u001b[0;32mdef\u001b[0m \u001b[0mmain\u001b[0m\u001b[0;34m(\u001b[0m\u001b[0mscreen\u001b[0m\u001b[0;34m)\u001b[0m\u001b[0;34m:\u001b[0m\u001b[0;34m\u001b[0m\u001b[0m\n\u001b[0;32m----> 7\u001b[0;31m     \u001b[0mcurses\u001b[0m\u001b[0;34m.\u001b[0m\u001b[0mcurs_set\u001b[0m\u001b[0;34m(\u001b[0m\u001b[0;32mFalse\u001b[0m\u001b[0;34m)\u001b[0m\u001b[0;34m\u001b[0m\u001b[0m\n\u001b[0m\u001b[1;32m      8\u001b[0m     \u001b[0mcurses\u001b[0m\u001b[0;34m.\u001b[0m\u001b[0minit_pair\u001b[0m\u001b[0;34m(\u001b[0m\u001b[0;36m1\u001b[0m\u001b[0;34m,\u001b[0m \u001b[0mcurses\u001b[0m\u001b[0;34m.\u001b[0m\u001b[0mCOLOR_RED\u001b[0m\u001b[0;34m,\u001b[0m \u001b[0mcurses\u001b[0m\u001b[0;34m.\u001b[0m\u001b[0mCOLOR_BLACK\u001b[0m\u001b[0;34m)\u001b[0m\u001b[0;34m\u001b[0m\u001b[0m\n\u001b[1;32m      9\u001b[0m     \u001b[0mcurses\u001b[0m\u001b[0;34m.\u001b[0m\u001b[0minit_pair\u001b[0m\u001b[0;34m(\u001b[0m\u001b[0;36m2\u001b[0m\u001b[0;34m,\u001b[0m \u001b[0mcurses\u001b[0m\u001b[0;34m.\u001b[0m\u001b[0mCOLOR_GREEN\u001b[0m\u001b[0;34m,\u001b[0m \u001b[0mcurses\u001b[0m\u001b[0;34m.\u001b[0m\u001b[0mCOLOR_BLACK\u001b[0m\u001b[0;34m)\u001b[0m\u001b[0;34m\u001b[0m\u001b[0m\n",
      "\u001b[0;31merror\u001b[0m: curs_set() returned ERR"
     ],
     "output_type": "error"
    }
   ],
   "source": [
    "from approxeng.input.selectbinder import ControllerResource\n",
    "from time import sleep\n",
    "import curses\n",
    "import pprint\n",
    "\n",
    "def main(screen):\n",
    "    curses.curs_set(False)\n",
    "    curses.init_pair(1, curses.COLOR_RED, curses.COLOR_BLACK)\n",
    "    curses.init_pair(2, curses.COLOR_GREEN, curses.COLOR_BLACK)\n",
    "    curses.init_pair(3, curses.COLOR_YELLOW, curses.COLOR_BLACK)\n",
    "    curses.start_color()\n",
    "    last_presses = None\n",
    "\n",
    "    def red(s):\n",
    "        screen.addstr(s, curses.color_pair(1))\n",
    "\n",
    "    def green(s):\n",
    "        screen.addstr(s, curses.color_pair(2))\n",
    "\n",
    "    def yellow(s):\n",
    "        screen.addstr(s, curses.color_pair(3))\n",
    "\n",
    "    # Loop forever\n",
    "    while True:\n",
    "        try:\n",
    "            with ControllerResource() as joystick:\n",
    "                while joystick.connected:\n",
    "                    # Check for presses since the last time we checked\n",
    "                    joystick.check_presses()\n",
    "\n",
    "                    screen.clear()\n",
    "\n",
    "                    if joystick.has_presses:\n",
    "                        last_presses = joystick.presses\n",
    "\n",
    "                    # Print most recent presses set\n",
    "                    screen.addstr(0, 0, 'last presses:')\n",
    "                    if last_presses is not None:\n",
    "                        for button_name in last_presses:\n",
    "                            green(' {}'.format(button_name))\n",
    "\n",
    "                    # Print axis values\n",
    "                    screen.addstr(1, 0, 'axes:')\n",
    "                    for axis_name in joystick.axes.names:\n",
    "                        screen.addstr(' {}='.format(axis_name))\n",
    "                        axis_value = joystick[axis_name]\n",
    "                        if axis_value > 0:\n",
    "                            green('{:.2f}'.format(axis_value))\n",
    "                        elif axis_value < 0:\n",
    "                            red('{:.2f}'.format(axis_value))\n",
    "                        else:\n",
    "                            yellow('{:.2f}'.format(axis_value))\n",
    "\n",
    "                    # Print button hold times\n",
    "                    screen.addstr(2, 0, 'hold times:')\n",
    "                    for button_name in joystick.buttons.names:\n",
    "                        hold_time = joystick[button_name]\n",
    "                        if hold_time is not None:\n",
    "                            screen.addstr(' {}='.format(button_name))\n",
    "                            green('{:.1f}'.format(hold_time))\n",
    "\n",
    "                    # Print some details of the controller\n",
    "                    screen.addstr(3, 0, 'controller class: {}'.format(type(joystick).__name__))\n",
    "                    screen.addstr(5, 0, pprint.pformat(joystick.controls, indent=2))\n",
    "\n",
    "                    screen.refresh()\n",
    "        except IOError:\n",
    "            screen.clear()\n",
    "            screen.addstr(0, 0, 'Waiting for controller')\n",
    "            screen.refresh()\n",
    "            sleep(1.0)\n",
    "\n",
    "\n",
    "curses.wrapper(main)"
   ]
  },
  {
   "cell_type": "code",
   "execution_count": null,
   "metadata": {},
   "outputs": [],
   "source": []
  }
 ],
 "metadata": {
  "kernelspec": {
   "display_name": "Python 3",
   "language": "python",
   "name": "python3"
  },
  "language_info": {
   "codemirror_mode": {
    "name": "ipython",
    "version": 3
   },
   "file_extension": ".py",
   "mimetype": "text/x-python",
   "name": "python",
   "nbconvert_exporter": "python",
   "pygments_lexer": "ipython3",
   "version": "3.5.2"
  }
 },
 "nbformat": 4,
 "nbformat_minor": 2
}
